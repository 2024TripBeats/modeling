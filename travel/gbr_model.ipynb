{
  "nbformat": 4,
  "nbformat_minor": 0,
  "metadata": {
    "colab": {
      "provenance": []
    },
    "kernelspec": {
      "name": "python3",
      "display_name": "Python 3"
    },
    "language_info": {
      "name": "python"
    }
  },
  "cells": [
    {
      "cell_type": "markdown",
      "source": [
        "* 여행스타일1: 자연 vs 도시(1-7범위)\n",
        "* 여행스타일2: 숙박 vs 당일(1-7범위)\n",
        "* 여행스타일3: 새로운 vs 익숙한(1-7범위)\n",
        "* 여행스타일4: 휴양/휴식 vs 체험활동"
      ],
      "metadata": {
        "id": "RlA_z-unyWcy"
      }
    },
    {
      "cell_type": "code",
      "execution_count": null,
      "metadata": {
        "id": "IcmTLX2wq9FP"
      },
      "outputs": [],
      "source": [
        "import joblib\n",
        "model = joblib.load('/content/gbr_model.pkl')\n",
        "master_visit_all = pd.read_csv('/content/master_visit_all.csv')"
      ]
    },
    {
      "cell_type": "code",
      "source": [
        "testing = pd.DataFrame({\n",
        "    'GENDER': [1],\n",
        "    'AGE_GRP': [20],\n",
        "    'TRAVEL_STYL_1': [2],\n",
        "    'TRAVEL_STYL_2': [2],\n",
        "    'TRAVEL_STYL_3': [2],\n",
        "    'TRAVEL_STYL_4': [2]\n",
        "})"
      ],
      "metadata": {
        "id": "-0e6QMh1rWNT"
      },
      "execution_count": null,
      "outputs": []
    },
    {
      "cell_type": "code",
      "source": [
        "# 3번 문항 range 수정\n",
        "testing['TRAVEL_STYL_3'] = testing['TRAVEL_STYL_3'].replace({1:'1', 2:'1', 3:'2', 4:'3', 5:'3'})\n",
        "testing['TRAVEL_STYL_3'] = testing['TRAVEL_STYL_3'].astype(int)"
      ],
      "metadata": {
        "id": "1NKYarVnyez2"
      },
      "execution_count": null,
      "outputs": []
    },
    {
      "cell_type": "code",
      "source": [
        "# 유저 특성에 대해서 여행지를 덧붙여서 oversampling\n",
        "visit_areas = master_visit_all['VISIT_AREA_NM'].drop_duplicates().dropna(axis=0).tolist()\n",
        "\n",
        "repeated_visits = np.tile(visit_areas, len(testing))\n",
        "\n",
        "testing = {\n",
        "    'GENDER': np.repeat(testing['GENDER'], len(visit_areas)),\n",
        "    'AGE_GRP': np.repeat(testing['AGE_GRP'], len(visit_areas)),\n",
        "    'TRAVEL_STYL_1': np.repeat(testing['TRAVEL_STYL_1'], len(visit_areas)),\n",
        "    'TRAVEL_STYL_2': np.repeat(testing['TRAVEL_STYL_2'], len(visit_areas)),\n",
        "    'TRAVEL_STYL_3': np.repeat(testing['TRAVEL_STYL_3'], len(visit_areas)),\n",
        "    'TRAVEL_STYL_4': np.repeat(testing['TRAVEL_STYL_4'], len(visit_areas)),\n",
        "    'VISIT_AREA_NM': repeated_visits\n",
        "}\n",
        "\n",
        "testing = pd.DataFrame(testing).reset_index(drop=True).drop_duplicates()"
      ],
      "metadata": {
        "id": "bK6ek38WrMYE"
      },
      "execution_count": null,
      "outputs": []
    },
    {
      "cell_type": "code",
      "source": [
        "scaler = MinMaxScaler()\n",
        "\n",
        "result = predict_model(model, data = testing)\n",
        "result['output']= scaler.fit_transform(result[['prediction_label']])\n",
        "\n",
        "result = result[['VISIT_AREA_NM', 'output']]\n",
        "result.sort_values(by='output', ascending=False).head(20)"
      ],
      "metadata": {
        "id": "7TVkFhZ4rXdC"
      },
      "execution_count": null,
      "outputs": []
    },
    {
      "cell_type": "code",
      "source": [
        "result.to_csv('result.csv')"
      ],
      "metadata": {
        "id": "VYfstULcrnYD"
      },
      "execution_count": null,
      "outputs": []
    },
    {
      "cell_type": "code",
      "source": [
        "import json\n",
        "\n",
        "result = result.to_dict(orient='records')\n",
        "\n",
        "with open('result.json', 'w', encoding='utf-8') as f:\n",
        "    json.dump(result, f, ensure_ascii=False, indent=4)"
      ],
      "metadata": {
        "id": "U8yCHBe1wALY"
      },
      "execution_count": null,
      "outputs": []
    }
  ]
}